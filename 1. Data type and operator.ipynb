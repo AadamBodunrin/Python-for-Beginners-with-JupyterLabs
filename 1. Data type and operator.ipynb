{
    "metadata": {
        "kernelspec": {
            "name": "python3",
            "display_name": "Python 3"
        },
        "language_info": {
            "name": "python",
            "version": "3.6.6",
            "mimetype": "text/x-python",
            "codemirror_mode": {
                "name": "ipython",
                "version": 3
            },
            "pygments_lexer": "ipython3",
            "nbconvert_exporter": "python",
            "file_extension": ".py"
        }
    },
    "nbformat_minor": 2,
    "nbformat": 4,
    "cells": [
        {
            "cell_type": "markdown",
            "source": "This notebook contains **python codes** on Data Types and Operators\n\n- Data Types: Integers, Floats, Booleans, Strings\n- Operators: Arithmetic, Comparison, Logical\n- Built-In Functions, Type Conversion\n- Whitespace and Style Guidelines",
            "metadata": {}
        },
        {
            "cell_type": "code",
            "source": "# Greetings! A perfect way to start\r\nprint('Hello World!')",
            "metadata": {},
            "outputs": [],
            "execution_count": 24
        },
        {
            "cell_type": "code",
            "source": "# Arithmetic Operators\n\n# Addition (+) \nprint(3+5)\nprint(1+2+3*3)\nprint(1+(2+3)*3)\nprint((1+2+3)*3)\nprint('\\t')\n\n# Subtraction (-) \nprint(3-5)\nprint(5-3)\nprint(100000-99999)\nprint('\\t')\n\n# Exponentation (**)\nprint(4**2)\nprint(4**4)\nprint(6**20)\nprint(20**6)\nprint('\\t')\n\n# Division (/)\nprint(9/2)\nprint(45/5)\nprint(100/26)\nprint('\\t')\n\n# Modulo(%)\nprint(9%2)\nprint(45%5)\nprint(100%26)\nprint('\\t')\n\n# Integer Division(//)\nprint(9//2)\nprint(45//5)\nprint(100//26)\nprint('\\t')\n\n# PS The usual order of mathematical operations holds in Python, PEMDAS or BODMAS if you are from Nigeria.",
            "metadata": {},
            "outputs": [],
            "execution_count": 13
        },
        {
            "cell_type": "code",
            "source": "# Write an expression that calculates the average of 23, 32 and 64. The first code is the most appropiate.\r\nprint((23+32+64)/3)\r\nprint((23+32+64)//3)\r\nprint((23+32+64)%3)",
            "metadata": {},
            "outputs": [],
            "execution_count": 14
        },
        {
            "cell_type": "code",
            "source": "#Variables and Assignment operators\r\n\r\nx = 2 \r\ny = x\r\nprint(y)\r\nprint('\\t')\r\n\r\nmv_population = 74728\r\nmv_area = 11.995\r\nmv_density =  mv_population/mv_area\r\nprint(mv_density)\r\nprint('\\t')\r\n\r\nmv_population = mv_population + 4000 -600\r\nprint(mv_population)\r\nprint('\\t')\r\n\r\nmv_population2 = 74728\r\nmv_population2 += 3400\r\nprint(mv_population2)\r\n",
            "metadata": {},
            "outputs": [],
            "execution_count": 15
        },
        {
            "cell_type": "code",
            "source": "# The current volume of a water reservoir (in cubic metres)\r\nreservoir_volume = 4.445e8\r\n# The amount of rainfall from a storm (in cubic metres)\r\nrainfall = 5e6\r\n\r\n# decrease the rainfall variable by 10% to account for runoff\r\nrainfall *= .9\r\n\r\n# add the rainfall variable to the reservoir_volume variable\r\nreservoir_volume += rainfall\r\n\r\n# increase reservoir_volume by 5% to account for stormwater that flows into the reservoir in the days following the storm\r\nreservoir_volume *= 1.05\r\n\r\n# decrease reservoir_volume by 5% to account for evaporation\r\nreservoir_volume *= 0.95\r\n\r\n# subtract 2.5e5 cubic metres from reservoir_volume to account for water that's piped to arid regions.\r\nreservoir_volume -= 2.5e5 \r\n\r\n# print the new value of the reservoir_volume variable\r\nprint(reservoir_volume)",
            "metadata": {},
            "outputs": [],
            "execution_count": 16
        },
        {
            "cell_type": "code",
            "source": "#Integers and float\r\nprint(type(4))\r\nprint(type(4.3))\r\nprint(float(49+43))\r\nprint(int(49+43+ 0.9))\r\nprint('\\t')\r\nx = int(4.7)\r\ny = float(4)\r\nprint(x)\r\nprint(y)\r\nprint(type(x))\r\nprint(type(y))\r\nprint(type(True))\r\nprint(type(False))",
            "metadata": {},
            "outputs": [],
            "execution_count": 17
        },
        {
            "cell_type": "code",
            "source": "sf_population, sf_area = 864816, 231.89\r\nrio_population, rio_area = 6453682, 486.5\r\n\r\nsan_francisco_pop_density = sf_population/sf_area\r\nrio_de_janeiro_pop_density = rio_population/rio_area\r\n\r\n# Write code that prints True if San Francisco is denser than Rio, and False otherwise. \r\nx = san_francisco_pop_density > rio_de_janeiro_pop_density\r\nprint(x)\r\nprint('\\t')\r\n\r\nprint(san_francisco_pop_density > rio_de_janeiro_pop_density)\r\nprint('\\t')\r\n\r\nif san_francisco_pop_density > rio_de_janeiro_pop_density:\r\n    print(True)\r\nelse:\r\n    print(False)",
            "metadata": {},
            "outputs": [],
            "execution_count": 18
        },
        {
            "cell_type": "code",
            "source": "#Strings\r\nmy_string = 'this is a string!'\r\nmy_string2 = \"this is also a string!!!\"\r\nmessage = 'Simon\\'s skateboard is in the garage.'\r\nprint(type(my_string))\r\nprint(type('Udacity'))\r\nprint(message)\r\nprint('\\t')\r\n\r\n\r\nfirst_word = 'Hello'\r\nsecond_word = 'There'\r\nprint(first_word + second_word)\r\nprint(first_word + ' ' + second_word)\r\nprint('\\t')\r\n\r\nprint(len(first_word))\r\nprint(first_word[0])\r\nprint(first_word[-1])",
            "metadata": {},
            "outputs": [],
            "execution_count": 19
        },
        {
            "cell_type": "code",
            "source": "#Write a Server Log Message\r\nusername = \"Kinari\"\r\ntimestamp = \"04:50\"\r\nurl = \"http://petshop.com/pets/mammals/cats\"\r\n\r\n# TODO: print a log message using the variables above.\r\n# The message should have the same format as this one:\r\n# \"Yogesh accessed the site http://petshop.com/pets/reptiles/pythons at 16:20.\"\r\nprint(username + ' accessed the site ' + url + ' at ' + timestamp + '.' )\r\n\r\ngiven_name = \"William\"\r\nmiddle_names = \"Bradley\"\r\nfamily_name = \"Pitt\"\r\n\r\nname_length = len(given_name) + len(middle_names) + len(family_name) + 2\r\ndriving_license_character_limit = 28\r\nprint(name_length <= driving_license_character_limit)\r\n",
            "metadata": {},
            "outputs": [],
            "execution_count": 20
        },
        {
            "cell_type": "code",
            "source": "#String method\r\nfull_name = 'John Sycamore'\r\nprint(full_name.upper())\r\nprint(full_name.istitle())\r\nprint('one fish, two fish, red fish, whale fishes'.count('i'))\r\nprint('one fish, two fish, red fish, whale fishes'.find('i'))\r\nprint('\\t')\r\n\r\nprint(\"Mohammed has {} problems\".format(99))\r\nanimal = \"dog\"\r\naction = \"bite\"\r\nprint(\"Does your {} {}?\".format(animal, action))\r\nmaria_string = \"Maria loves {} and {}\"\r\nprint(maria_string.format(\"math\", \"statistics\"))\r\nprint(\"Mohammed has {} problems but {} heartbreak.\".format(99, 1))\r\nprint('\\t')\r\n\r\nnew_str = \"The cow jumped over the moon.\"\r\nnew_str.split(' ', 3)\r\n",
            "metadata": {},
            "outputs": [],
            "execution_count": 23
        },
        {
            "cell_type": "code",
            "source": "#String method quiz\r\nverse = \"If you can keep your head when all about you\\n  Are losing theirs and blaming it on you,\\nIf you can trust yourself when all men doubt you,\\n  But make allowance for their doubting too;\\nIf you can wait and not be tired by waiting,\\n  Or being lied about, don’t deal in lies,\\nOr being hated, don’t give way to hating,\\n  And yet don’t look too good, nor talk too wise:\"\r\nprint(verse, \"\\n\")\r\nprint(\"Verse has a length of {} characters.\".format(len(verse)))\r\nprint(\"The first occurence of the word 'and' occurs at the {}th index.\".format(verse.find('and')))\r\nprint(\"The last occurence of the word 'you' occurs at the {}th index.\".format(verse.rfind('you')))\r\nprint(\"The word 'you' occurs {} times in the verse.\".format(verse.count('you')))\r\n",
            "metadata": {},
            "outputs": [],
            "execution_count": 22
        }
    ]
}