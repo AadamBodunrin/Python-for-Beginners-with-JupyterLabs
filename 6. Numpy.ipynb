{
    "metadata": {
        "kernelspec": {
            "name": "python3",
            "display_name": "Python 3"
        },
        "language_info": {
            "name": "python",
            "version": "3.6.6",
            "mimetype": "text/x-python",
            "codemirror_mode": {
                "name": "ipython",
                "version": 3
            },
            "pygments_lexer": "ipython3",
            "nbconvert_exporter": "python",
            "file_extension": ".py"
        }
    },
    "nbformat_minor": 2,
    "nbformat": 4,
    "cells": [
        {
            "cell_type": "markdown",
            "source": "This notebook contains python codes on numpy.\r\n\r\n- How to import NumPy\r\n- How to create multidimensional NumPy ndarrays using various methods\r\n- How to access and change elements in ndarrays\r\n- How to load and save ndarrays\r\n- How to use slicing to select or change subsets of an ndarray\r\n- Understand the difference between a view and a copy an of ndarray\r\n- How to use Boolean indexing and set operations to select or change subsets of an ndarray\r\n- How to sort ndarrays\r\n- How to perform element-wise operations on ndarrays\r\n- Understand how NumPy uses broadcasting to perform operations on ndarrays of different sizes.",
            "metadata": {}
        },
        {
            "cell_type": "code",
            "source": "#Import numpy\r\nimport numpy as np",
            "metadata": {},
            "outputs": [],
            "execution_count": 9
        },
        {
            "cell_type": "code",
            "source": "x = np.random.random(100000000)\r\naverage = sum(x)/len(x)\r\nprint(average)",
            "metadata": {},
            "outputs": [],
            "execution_count": 11
        }
    ]
}