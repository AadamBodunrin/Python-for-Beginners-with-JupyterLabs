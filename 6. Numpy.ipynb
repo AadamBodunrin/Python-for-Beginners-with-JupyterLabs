{
 "cells": [
  {
   "cell_type": "markdown",
   "metadata": {},
   "source": [
    "This notebook contains python codes on numpy.\r\n",
    "\r\n",
    "- How to import NumPy\r\n",
    "- How to create multidimensional NumPy ndarrays using various methods\r\n",
    "- How to access and change elements in ndarrays\r\n",
    "- How to load and save ndarrays\r\n",
    "- How to use slicing to select or change subsets of an ndarray\r\n",
    "- Understand the difference between a view and a copy an of ndarray\r\n",
    "- How to use Boolean indexing and set operations to select or change subsets of an ndarray\r\n",
    "- How to sort ndarrays\r\n",
    "- How to perform element-wise operations on ndarrays\r\n",
    "- Understand how NumPy uses broadcasting to perform operations on ndarrays of different sizes."
   ]
  },
  {
   "cell_type": "code",
   "execution_count": 1,
   "metadata": {},
   "outputs": [],
   "source": [
    "#Import numpy\r\n",
    "import numpy as np"
   ]
  },
  {
   "cell_type": "code",
   "execution_count": 2,
   "metadata": {},
   "outputs": [],
   "source": [
    "x = np.random.random(100000000)\r\n",
    "average = np.mean(x)\r\n",
    "print(average)\r\n"
   ]
  },
  {
   "cell_type": "code",
   "execution_count": 3,
   "metadata": {},
   "outputs": [],
   "source": [
    "#Creating and saving Numpy arrays\r\n",
    "import numpy as np\r\n",
    "x = np.array([1, 2, 3, 4, 5])\r\n",
    "print(x)\r\n",
    "print(type(x))\r\n",
    "x.dtype\r\n",
    "x.shape"
   ]
  },
  {
   "cell_type": "code",
   "execution_count": 4,
   "metadata": {},
   "outputs": [],
   "source": [
    "y = np.array([[1, 2, 3], [4, 5, 6], [7, 8, 9], [10, 11, 12]])\r\n",
    "print(y)\r\n",
    "y.shape\r\n",
    "y.size"
   ]
  },
  {
   "cell_type": "code",
   "execution_count": 5,
   "metadata": {},
   "outputs": [],
   "source": [
    "x = np.array([1, 2.5, 3, 4.67, 5])\r\n",
    "print(x, x.dtype)"
   ]
  },
  {
   "cell_type": "code",
   "execution_count": 6,
   "metadata": {},
   "outputs": [],
   "source": [
    "x = np.array([1, 2.5, 3, 4.67, 5], dtype=np.int32)\r\n",
    "print(x, x.dtype)"
   ]
  },
  {
   "cell_type": "code",
   "execution_count": 7,
   "metadata": {},
   "outputs": [],
   "source": [
    "x = np.array([1, 7, 9, 12, 24])\r\n",
    "np.save('random', x)\r\n",
    "y = np.load('random.npy')\r\n",
    "print(y)"
   ]
  },
  {
   "cell_type": "code",
   "execution_count": 8,
   "metadata": {},
   "outputs": [],
   "source": [
    "x = np.array([1, 2, 3, 4, 5])\r\n",
    "print('x = ', x)\r\n",
    "print()\r\n",
    "\r\n",
    "print('x has dimensions:', x.shape)\r\n",
    "print('x is an object of type:', type(x))\r\n",
    "print('The elements in x are of type:', x.dtype)"
   ]
  },
  {
   "cell_type": "code",
   "execution_count": 9,
   "metadata": {},
   "outputs": [],
   "source": [
    "x = np.array(['Hello', 'World'])\r\n",
    "print('x = ', x)\r\n",
    "print()\r\n",
    "\r\n",
    "print('x has dimensions:', x.shape)\r\n",
    "print('x is an object of type:', type(x))\r\n",
    "print('The elements in x are of type:', x.dtype)"
   ]
  },
  {
   "cell_type": "code",
   "execution_count": 10,
   "metadata": {},
   "outputs": [],
   "source": [
    "import numpy as np\r\n",
    "letter_array = np.array(['a', 'b', 'c', 'd', 'e', 'f', 'g', 'h', 'i', 'j'])\r\n",
    "print(\"Letter Array: \", letter_array)\r\n",
    "print()\r\n",
    "print(\"Dtype:\", letter_array.dtype)\r\n",
    "print()\r\n",
    "print(\"Shape:\", letter_array.shape)\r\n",
    "print()\r\n",
    "print(\"Size:\", letter_array.size)"
   ]
  },
  {
   "cell_type": "code",
   "execution_count": 11,
   "metadata": {},
   "outputs": [],
   "source": [
    "my_list = [1, 2, 3, 4, 5]\r\n",
    "np.array(my_list)\r\n",
    "print(my_list)\r\n",
    "x = np.zeros((4, 3))\r\n",
    "print(x)\r\n"
   ]
  },
  {
   "cell_type": "code",
   "execution_count": 12,
   "metadata": {},
   "outputs": [],
   "source": [
    "x = np.ones((4,3), dtype = int)\r\n",
    "print(x, x.dtype)\r\n",
    "print()\r\n",
    "y = np.full((4,3), 5)\r\n",
    "print(y)\r\n",
    "print()\r\n",
    "z = np.eye(3)\r\n",
    "print(z)\r\n",
    "print()\r\n",
    "w = np.diag([10,15,20,25,30])\r\n",
    "print(w)"
   ]
  },
  {
   "cell_type": "code",
   "execution_count": 13,
   "metadata": {},
   "outputs": [],
   "source": [
    "a = np.arange(10)\r\n",
    "print(a)\r\n",
    "print()\r\n",
    "b = np.arange(0,10)\r\n",
    "print(b)\r\n",
    "print()\r\n",
    "c = np.arange(0, 10, 2)\r\n",
    "print(c)"
   ]
  },
  {
   "cell_type": "code",
   "execution_count": 14,
   "metadata": {},
   "outputs": [],
   "source": [
    "d = np.linspace(0, 25, 10)\r\n",
    "print(d)\r\n",
    "print()\r\n",
    "e = np.linspace(0, 25, 10, endpoint = False)\r\n",
    "print(e)"
   ]
  },
  {
   "cell_type": "code",
   "execution_count": 15,
   "metadata": {},
   "outputs": [],
   "source": [
    "f = np.arange(20)\r\n",
    "print(f)\r\n",
    "print()\r\n",
    "g = np.reshape(f, (4,5))\r\n",
    "print(g)\r\n",
    "print()\r\n",
    "h = np.reshape(f, (10,2))\r\n",
    "print(h)"
   ]
  },
  {
   "cell_type": "code",
   "execution_count": 16,
   "metadata": {},
   "outputs": [],
   "source": [
    "i = np.arange(20).reshape((10, 2))\r\n",
    "print(i)\r\n",
    "print()\r\n",
    "j = np.linspace(0, 25, 10, endpoint = False).reshape((5,2))\r\n",
    "print(j)"
   ]
  },
  {
   "cell_type": "code",
   "execution_count": 17,
   "metadata": {},
   "outputs": [],
   "source": [
    "k = np.random.random((3, 3))\r\n",
    "print(k)\r\n",
    "print()\r\n",
    "l = np.random.randint(4, 15, (3, 2))\r\n",
    "print(l)\r\n",
    "print()\r\n",
    "m = np.random.normal(0, 0.1, size = (1000, 1000))\r\n",
    "print(m)"
   ]
  },
  {
   "cell_type": "code",
   "execution_count": 18,
   "metadata": {},
   "outputs": [],
   "source": [
    "# Accessing, Deleting, and Inserting Elements Into ndarrays\r\n",
    "x = np.array([1, 2, 3, 4, 5])\r\n",
    "print(x)\r\n",
    "print(x[0])\r\n",
    "print(x[4])\r\n",
    "print('First element using negative index is: ',x[-5])\r\n",
    "x[2] = 30\r\n",
    "print()\r\n",
    "print(x)"
   ]
  },
  {
   "cell_type": "code",
   "execution_count": 19,
   "metadata": {},
   "outputs": [],
   "source": [
    "x = np.arange(1, 10).reshape((3, 3))\r\n",
    "print(x)\r\n",
    "print('Elements at position (0, 0) is ', x[0, 0])\r\n",
    "print(x[0, 1])\r\n",
    "print(x[0, 2])\r\n",
    "print(x[1, 1])\r\n",
    "print(x[1, 2])\r\n",
    "print(x[2, 2])\r\n",
    "x[0, 0] = 15\r\n",
    "print(x)"
   ]
  },
  {
   "cell_type": "code",
   "execution_count": 20,
   "metadata": {},
   "outputs": [],
   "source": [
    "x = np.array([1, 2, 3, 4, 5])\r\n",
    "print(x)\r\n",
    "x = np.delete(x, [0, 4])\r\n",
    "print(x)\r\n",
    "print()\r\n",
    "y = np.arange(1, 10).reshape(3, 3)\r\n",
    "print(y)\r\n",
    "z = np.delete(y, 0, axis = 0)\r\n",
    "print('\\n', z)\r\n",
    "a = np.delete(y, [0, 2], axis = 1)\r\n",
    "print('\\n', a)"
   ]
  },
  {
   "cell_type": "code",
   "execution_count": 21,
   "metadata": {},
   "outputs": [],
   "source": [
    "x = np.array([1, 2, 3, 4, 5])\r\n",
    "print(x)\r\n",
    "x = np.append(x, [6])\r\n",
    "print(x)\r\n",
    "x = np.append(x, [7, 8])\r\n",
    "print(x)\r\n",
    "print()\r\n",
    "y = np.arange(1, 10).reshape(3, 3)\r\n",
    "print(y)\r\n",
    "y = np.append(y, [[10,11,12]], axis = 0)\r\n",
    "print('\\n', y)\r\n",
    "y = np.append(y, [[10], [11], [12], [13]], axis=1)\r\n",
    "print('\\n', y)\r\n"
   ]
  },
  {
   "cell_type": "code",
   "execution_count": 22,
   "metadata": {},
   "outputs": [],
   "source": [
    "x = np.array([1, 2, 5, 6, 7])\r\n",
    "print(x)\r\n",
    "x = np.insert(x, 2, [3, 4])\r\n",
    "print(x)\r\n",
    "y = np.array([[1, 2, 3], [4, 5, 6]])\r\n",
    "print(y)\r\n",
    "y = np.insert(y, 2, [7, 8, 9], axis =0)\r\n",
    "print('\\n', y)"
   ]
  },
  {
   "cell_type": "code",
   "execution_count": 23,
   "metadata": {},
   "outputs": [],
   "source": [
    "x = np.array([1,2])\r\n",
    "y = np.array([[3, 4], [5, 6]])\r\n",
    "z = np.vstack((x, y))\r\n",
    "print(z)\r\n",
    "a = np.hstack((y, x.reshape(2, 1)))\r\n",
    "print('\\n', a)"
   ]
  },
  {
   "cell_type": "code",
   "execution_count": 30,
   "metadata": {},
   "outputs": [],
   "source": [
    "#Slicing ndarray\r\n",
    "#ndarray[start:end]\r\n",
    "#ndarray[start:]\r\n",
    "#ndarray[:end]\r\n",
    "x = np.array([1, 2, 5, 6, 7])\r\n",
    "z = x[1:4]\r\n",
    "print(z)\r\n",
    "a = x[2:]\r\n",
    "b = x[:2]\r\n",
    "\r\n",
    "print(a, b)"
   ]
  },
  {
   "cell_type": "code",
   "execution_count": 44,
   "metadata": {},
   "outputs": [],
   "source": [
    "x = np.arange(1,21).reshape(4, 5)\r\n",
    "print(x)\r\n",
    "z= x[1:4 , 2:5]\r\n",
    "a = x[1: , 2:]\r\n",
    "print()\r\n",
    "print(z,  a)\r\n",
    "b = x[:, 2]\r\n",
    "print()\r\n",
    "print(b)\r\n",
    "c = x[:, 2:3]\r\n",
    "print(c)"
   ]
  },
  {
   "cell_type": "code",
   "execution_count": 50,
   "metadata": {},
   "outputs": [],
   "source": [
    "#Copying an array. changes made in a copied array does not affect the original array\r\n",
    "x = np.arange(1, 21).reshape(4, 5)\r\n",
    "print(x)\r\n",
    "z = x[1: , 2:].copy()\r\n",
    "print()\r\n",
    "print(z)\r\n",
    "z[2,2] = 555\r\n",
    "print(z)\r\n"
   ]
  },
  {
   "cell_type": "code",
   "execution_count": 54,
   "metadata": {},
   "outputs": [],
   "source": [
    "x = np.arange(20).reshape(4, 5)\r\n",
    "print(x)\r\n",
    "print()\r\n",
    "indices = np.array([1, 3])\r\n",
    "print(indices)\r\n",
    "print()\r\n",
    "y = x[indices, :]\r\n",
    "print(y)\r\n",
    "print()\r\n",
    "z = x[:, indices]\r\n",
    "print(z)"
   ]
  },
  {
   "cell_type": "code",
   "execution_count": 58,
   "metadata": {},
   "outputs": [],
   "source": [
    "x = np.arange(20).reshape(4, 5)\r\n",
    "print(x)\r\n",
    "print()\r\n",
    "z = np.diag(x)\r\n",
    "print(z)\r\n",
    "y = np.diag(x, k =1)\r\n",
    "print(y)\r\n",
    "a = np.diag(x, k = -1)\r\n",
    "print(a)"
   ]
  },
  {
   "cell_type": "code",
   "execution_count": 61,
   "metadata": {},
   "outputs": [],
   "source": [
    "x = np.array([[1, 2, 3], [2, 4, 3], [4, 5, 6]])\r\n",
    "print(x)\r\n",
    "y = np.unique(x)\r\n",
    "print(y)"
   ]
  },
  {
   "cell_type": "code",
   "execution_count": 73,
   "metadata": {},
   "outputs": [],
   "source": [
    "#Boolean Indexing\r\n",
    "x = np.arange(25).reshape(5, 5)\r\n",
    "print(x)\r\n",
    "print(x[x > 10])\r\n",
    "print(x[x <= 7])\r\n",
    "print(x[x != 4])\r\n",
    "print(x[(x > 10) & (x < 18)])\r\n",
    "print()\r\n",
    "x[(x > 10) & (x < 18)] = -1\r\n",
    "print(x)\r\n"
   ]
  },
  {
   "cell_type": "code",
   "execution_count": 79,
   "metadata": {},
   "outputs": [],
   "source": [
    "x = np.array([1, 2, 3, 4, 5])\r\n",
    "y = np.array([3, 5, 2, 6, 7])\r\n",
    "\r\n",
    "print(np.intersect1d(x,y))\r\n",
    "print(np.setdiff1d(x,y))\r\n",
    "print(np.union1d(x,y))\r\n"
   ]
  },
  {
   "cell_type": "code",
   "execution_count": 83,
   "metadata": {},
   "outputs": [],
   "source": [
    "x = np.random.randint(1, 11, size=(10))\r\n",
    "print(x)\r\n",
    "print(np.sort(x))\r\n",
    "print(np.sort(np.unique(x)))\r\n",
    "print()\r\n",
    "x.sort()\r\n",
    "print(x)\r\n"
   ]
  },
  {
   "cell_type": "code",
   "execution_count": 91,
   "metadata": {},
   "outputs": [],
   "source": [
    "x = np.random.randint(1, 11, size=(5, 5))\r\n",
    "print(x)\r\n",
    "print()\r\n",
    "print(np.sort(x, axis = 0))\r\n",
    "print()\r\n",
    "print(np.sort(x, axis = 1))"
   ]
  },
  {
   "cell_type": "code",
   "execution_count": 96,
   "metadata": {},
   "outputs": [],
   "source": [
    "x = np.linspace(1, 25, endpoint = False).reshape(10, 5)\r\n",
    "y = np.arange(1, 26).reshape((5, 5))\r\n",
    "z = np.random.randint(1, 25, size = (5,5))\r\n",
    "print(x)\r\n",
    "print()\r\n",
    "print(y)\r\n",
    "print()\r\n",
    "print(z)\r\n",
    "a = y[(y % 2 != 0)]\r\n",
    "print()\r\n",
    "print(a)"
   ]
  },
  {
   "cell_type": "code",
   "execution_count": 101,
   "metadata": {},
   "outputs": [],
   "source": [
    "#Arithmetic operations and broadcasting\r\n",
    "x = np.array([1, 2, 3, 4, 5])\r\n",
    "y = np.array([6, 7, 8, 9, 10])\r\n",
    "print(x + y)\r\n",
    "print(np.add(x, y))\r\n",
    "print(x - y)\r\n",
    "print(np.subtract(x, y))\r\n",
    "print(np.subtract(y, x))\r\n",
    "print(x * y)\r\n",
    "print(np.multiply(x, y))\r\n",
    "print(x / y)\r\n",
    "print(np.divide(x, y))"
   ]
  },
  {
   "cell_type": "code",
   "execution_count": 111,
   "metadata": {},
   "outputs": [],
   "source": [
    "x = np.array([1, 2, 3, 4]).reshape(2, 2)\r\n",
    "y = np.array([6, 7, 8, 10]).reshape(2, 2)\r\n",
    "print(x)\r\n",
    "print(y)\r\n",
    "print(np.add(x, y))\r\n",
    "print(x - y)\r\n",
    "print(x * y)\r\n",
    "print(np.divide(x, y))\r\n",
    "print()\r\n",
    "print(np.sqrt(x))\r\n",
    "print(np.exp(y))\r\n",
    "print(np.power(x, 2))\r\n",
    "print(x.mean())\r\n",
    "print(x.mean(axis = 0))\r\n",
    "print(x.mean(axis = 1))\r\n",
    "print(x.std())\r\n",
    "print(x.max())\r\n",
    "print(x.min())"
   ]
  },
  {
   "cell_type": "code",
   "execution_count": 113,
   "metadata": {},
   "outputs": [],
   "source": [
    "x = np.array([1, 2, 3, 4]).reshape(2, 2)\r\n",
    "print(3 + x)\r\n",
    "print(x - 3)\r\n",
    "print(x * 4)\r\n",
    "print(x / 4)\r\n",
    "print(x // 4)\r\n",
    "print(x % 4)"
   ]
  },
  {
   "cell_type": "code",
   "execution_count": 116,
   "metadata": {},
   "outputs": [],
   "source": [
    "x = np.arange(3)\r\n",
    "print(x)\r\n",
    "y = np.arange(9).reshape(3, 3)\r\n",
    "print(y)\r\n",
    "print(np.multiply(x, y))\r\n",
    "z = x.reshape(3, 1)\r\n",
    "print(z)\r\n",
    "print(np.multiply(y, z))"
   ]
  },
  {
   "cell_type": "code",
   "execution_count": 119,
   "metadata": {},
   "outputs": [],
   "source": [
    "x = np.ones((4, 4))*[1, 2, 3, 4]\r\n",
    "print(x)\r\n",
    "y = np.ones((4, 4))*[[1], [2], [3], [4]]\r\n",
    "print(y)"
   ]
  }
 ],
 "metadata": {
  "kernelspec": {
   "display_name": "Python 3",
   "language": "python",
   "name": "python3"
  },
  "language_info": {
   "codemirror_mode": {
    "name": "ipython",
    "version": 3
   },
   "file_extension": ".py",
   "mimetype": "text/x-python",
   "name": "python",
   "nbconvert_exporter": "python",
   "pygments_lexer": "ipython3",
   "version": "3.7.3"
  }
 },
 "nbformat": 4,
 "nbformat_minor": 4
}
