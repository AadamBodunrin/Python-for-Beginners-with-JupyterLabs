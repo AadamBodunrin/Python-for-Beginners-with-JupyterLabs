{
    "metadata": {
        "kernelspec": {
            "name": "python3",
            "display_name": "Python 3"
        },
        "language_info": {
            "name": "python",
            "version": "3.6.6",
            "mimetype": "text/x-python",
            "codemirror_mode": {
                "name": "ipython",
                "version": 3
            },
            "pygments_lexer": "ipython3",
            "nbconvert_exporter": "python",
            "file_extension": ".py"
        }
    },
    "nbformat_minor": 2,
    "nbformat": 4,
    "cells": [
        {
            "cell_type": "markdown",
            "source": "This notebook contains python codes on numpy.\r\n\r\n- How to import NumPy\r\n- How to create multidimensional NumPy ndarrays using various methods\r\n- How to access and change elements in ndarrays\r\n- How to load and save ndarrays\r\n- How to use slicing to select or change subsets of an ndarray\r\n- Understand the difference between a view and a copy an of ndarray\r\n- How to use Boolean indexing and set operations to select or change subsets of an ndarray\r\n- How to sort ndarrays\r\n- How to perform element-wise operations on ndarrays\r\n- Understand how NumPy uses broadcasting to perform operations on ndarrays of different sizes.",
            "metadata": {}
        },
        {
            "cell_type": "code",
            "source": "#Import numpy\r\nimport numpy as np",
            "metadata": {},
            "outputs": [],
            "execution_count": 1
        },
        {
            "cell_type": "code",
            "source": "x = np.random.random(100000000)\r\naverage = np.mean(x)\r\nprint(average)\r\n",
            "metadata": {},
            "outputs": [],
            "execution_count": 2
        },
        {
            "cell_type": "code",
            "source": "#Creating and saving Numpy arrays\r\nimport numpy as np\r\nx = np.array([1, 2, 3, 4, 5])\r\nprint(x)\r\nprint(type(x))\r\nx.dtype\r\nx.shape",
            "metadata": {},
            "outputs": [],
            "execution_count": 3
        },
        {
            "cell_type": "code",
            "source": "y = np.array([[1, 2, 3], [4, 5, 6], [7, 8, 9], [10, 11, 12]])\r\nprint(y)\r\ny.shape\r\ny.size",
            "metadata": {},
            "outputs": [],
            "execution_count": 4
        },
        {
            "cell_type": "code",
            "source": "x = np.array([1, 2.5, 3, 4.67, 5])\r\nprint(x, x.dtype)",
            "metadata": {},
            "outputs": [],
            "execution_count": 5
        },
        {
            "cell_type": "code",
            "source": "x = np.array([1, 2.5, 3, 4.67, 5], dtype=np.int32)\r\nprint(x, x.dtype)",
            "metadata": {},
            "outputs": [],
            "execution_count": 6
        },
        {
            "cell_type": "code",
            "source": "x = np.array([1, 7, 9, 12, 24])\r\nnp.save('random', x)\r\ny = np.load('random.npy')\r\nprint(y)",
            "metadata": {},
            "outputs": [],
            "execution_count": 7
        },
        {
            "cell_type": "code",
            "source": "x = np.array([1, 2, 3, 4, 5])\r\nprint('x = ', x)\r\nprint()\r\n\r\nprint('x has dimensions:', x.shape)\r\nprint('x is an object of type:', type(x))\r\nprint('The elements in x are of type:', x.dtype)",
            "metadata": {},
            "outputs": [],
            "execution_count": 8
        },
        {
            "cell_type": "code",
            "source": "x = np.array(['Hello', 'World'])\r\nprint('x = ', x)\r\nprint()\r\n\r\nprint('x has dimensions:', x.shape)\r\nprint('x is an object of type:', type(x))\r\nprint('The elements in x are of type:', x.dtype)",
            "metadata": {},
            "outputs": [],
            "execution_count": 9
        },
        {
            "cell_type": "code",
            "source": "import numpy as np\r\nletter_array = np.array(['a', 'b', 'c', 'd', 'e', 'f', 'g', 'h', 'i', 'j'])\r\nprint(\"Letter Array: \", letter_array)\r\nprint()\r\nprint(\"Dtype:\", letter_array.dtype)\r\nprint()\r\nprint(\"Shape:\", letter_array.shape)\r\nprint()\r\nprint(\"Size:\", letter_array.size)",
            "metadata": {},
            "outputs": [],
            "execution_count": 10
        },
        {
            "cell_type": "code",
            "source": "my_list = [1, 2, 3, 4, 5]\r\nnp.array(my_list)\r\nprint(my_list)\r\nx = np.zeros((4, 3))\r\nprint(x)\r\n",
            "metadata": {},
            "outputs": [],
            "execution_count": 11
        },
        {
            "cell_type": "code",
            "source": "x = np.ones((4,3), dtype = int)\r\nprint(x, x.dtype)\r\nprint()\r\ny = np.full((4,3), 5)\r\nprint(y)\r\nprint()\r\nz = np.eye(3)\r\nprint(z)\r\nprint()\r\nw = np.diag([10,15,20,25,30])\r\nprint(w)",
            "metadata": {},
            "outputs": [],
            "execution_count": 12
        },
        {
            "cell_type": "code",
            "source": "a = np.arange(10)\r\nprint(a)\r\nprint()\r\nb = np.arange(0,10)\r\nprint(b)\r\nprint()\r\nc = np.arange(0, 10, 2)\r\nprint(c)",
            "metadata": {},
            "outputs": [],
            "execution_count": 13
        },
        {
            "cell_type": "code",
            "source": "d = np.linspace(0, 25, 10)\r\nprint(d)\r\nprint()\r\ne = np.linspace(0, 25, 10, endpoint = False)\r\nprint(e)",
            "metadata": {},
            "outputs": [],
            "execution_count": 14
        },
        {
            "cell_type": "code",
            "source": "f = np.arange(20)\r\nprint(f)\r\nprint()\r\ng = np.reshape(f, (4,5))\r\nprint(g)\r\nprint()\r\nh = np.reshape(f, (10,2))\r\nprint(h)",
            "metadata": {},
            "outputs": [],
            "execution_count": 15
        },
        {
            "cell_type": "code",
            "source": "i = np.arange(20).reshape((10, 2))\r\nprint(i)\r\nprint()\r\nj = np.linspace(0, 25, 10, endpoint = False).reshape((5,2))\r\nprint(j)",
            "metadata": {},
            "outputs": [],
            "execution_count": 16
        },
        {
            "cell_type": "code",
            "source": "k = np.random.random((3, 3))\r\nprint(k)\r\nprint()\r\nl = np.random.randint(4, 15, (3, 2))\r\nprint(l)\r\nprint()\r\nm = np.random.normal(0, 0.1, size = (1000, 1000))\r\nprint(m)",
            "metadata": {},
            "outputs": [],
            "execution_count": 17
        },
        {
            "cell_type": "code",
            "source": "# Accessing, Deleting, and Inserting Elements Into ndarrays\r\nx = np.array([1, 2, 3, 4, 5])\r\nprint(x)\r\nprint(x[0])\r\nprint(x[4])\r\nprint('First element using negative index is: ',x[-5])\r\nx[2] = 30\r\nprint()\r\nprint(x)",
            "metadata": {},
            "outputs": [],
            "execution_count": 18
        },
        {
            "cell_type": "code",
            "source": "x = np.arange(1, 10).reshape((3, 3))\r\nprint(x)\r\nprint('Elements at position (0, 0) is ', x[0, 0])\r\nprint(x[0, 1])\r\nprint(x[0, 2])\r\nprint(x[1, 1])\r\nprint(x[1, 2])\r\nprint(x[2, 2])\r\nx[0, 0] = 15\r\nprint(x)",
            "metadata": {},
            "outputs": [],
            "execution_count": 19
        },
        {
            "cell_type": "code",
            "source": "x = np.array([1, 2, 3, 4, 5])\r\nprint(x)\r\nx = np.delete(x, [0, 4])\r\nprint(x)\r\nprint()\r\ny = np.arange(1, 10).reshape(3, 3)\r\nprint(y)\r\nz = np.delete(y, 0, axis = 0)\r\nprint('\\n', z)\r\na = np.delete(y, [0, 2], axis = 1)\r\nprint('\\n', a)",
            "metadata": {},
            "outputs": [],
            "execution_count": 20
        },
        {
            "cell_type": "code",
            "source": "x = np.array([1, 2, 3, 4, 5])\r\nprint(x)\r\nx = np.append(x, [6])\r\nprint(x)\r\nx = np.append(x, [7, 8])\r\nprint(x)\r\nprint()\r\ny = np.arange(1, 10).reshape(3, 3)\r\nprint(y)\r\ny = np.append(y, [[10,11,12]], axis = 0)\r\nprint('\\n', y)\r\ny = np.append(y, [[10], [11], [12], [13]], axis=1)\r\nprint('\\n', y)\r\n",
            "metadata": {},
            "outputs": [],
            "execution_count": 21
        },
        {
            "cell_type": "code",
            "source": "x = np.array([1, 2, 5, 6, 7])\r\nprint(x)\r\nx = np.insert(x, 2, [3, 4])\r\nprint(x)\r\ny = np.array([[1, 2, 3], [4, 5, 6]])\r\nprint(y)\r\ny = np.insert(y, 2, [7, 8, 9], axis =0)\r\nprint('\\n', y)",
            "metadata": {},
            "outputs": [],
            "execution_count": 22
        },
        {
            "cell_type": "code",
            "source": "x = np.array([1,2])\r\ny = np.array([[3, 4], [5, 6]])\r\nz = np.vstack((x, y))\r\nprint(z)\r\na = np.hstack((y, x.reshape(2, 1)))\r\nprint('\\n', a)",
            "metadata": {},
            "outputs": [],
            "execution_count": 23
        },
        {
            "cell_type": "code",
            "source": "#Slicing ndarray\r\n#ndarray[start:end]\r\n#ndarray[start:]\r\n#ndarray[:end]\r\nx = np.array([1, 2, 5, 6, 7])\r\nz = x[1:4]\r\nprint(z)\r\na = x[2:]\r\nb = x[:2]\r\n\r\nprint(a, b)",
            "metadata": {},
            "outputs": [],
            "execution_count": 30
        },
        {
            "cell_type": "code",
            "source": "x = np.arange(1,21).reshape(4, 5)\r\nprint(x)\r\nz= x[1:4 , 2:5]\r\na = x[1: , 2:]\r\nprint()\r\nprint(z,  a)\r\nb = x[:, 2]\r\nprint()\r\nprint(b)\r\nc = x[:, 2:3]\r\nprint(c)",
            "metadata": {},
            "outputs": [],
            "execution_count": 44
        },
        {
            "cell_type": "code",
            "source": "#Copying an array. changes made in a copied array does not affect the original array\r\nx = np.arange(1, 21).reshape(4, 5)\r\nprint(x)\r\nz = x[1: , 2:].copy()\r\nprint()\r\nprint(z)\r\nz[2,2] = 555\r\nprint(z)\r\n",
            "metadata": {},
            "outputs": [],
            "execution_count": 50
        },
        {
            "cell_type": "code",
            "source": "x = np.arange(20).reshape(4, 5)\r\nprint(x)\r\nprint()\r\nindices = np.array([1, 3])\r\nprint(indices)\r\nprint()\r\ny = x[indices, :]\r\nprint(y)\r\nprint()\r\nz = x[:, indices]\r\nprint(z)",
            "metadata": {},
            "outputs": [],
            "execution_count": 54
        },
        {
            "cell_type": "code",
            "source": "x = np.arange(20).reshape(4, 5)\r\nprint(x)\r\nprint()\r\nz = np.diag(x)\r\nprint(z)\r\ny = np.diag(x, k =1)\r\nprint(y)\r\na = np.diag(x, k = -1)\r\nprint(a)",
            "metadata": {},
            "outputs": [],
            "execution_count": 58
        },
        {
            "cell_type": "code",
            "source": "x = np.array([[1, 2, 3], [2, 4, 3], [4, 5, 6]])\r\nprint(x)\r\ny = np.unique(x)\r\nprint(y)",
            "metadata": {},
            "outputs": [],
            "execution_count": 61
        },
        {
            "cell_type": "code",
            "source": "#Boolean Indexing\r\nx = np.arange(25).reshape(5, 5)\r\nprint(x)\r\nprint(x[x > 10])\r\nprint(x[x <= 7])\r\nprint(x[x != 4])\r\nprint(x[(x > 10) & (x < 18)])\r\nprint()\r\nx[(x > 10) & (x < 18)] = -1\r\nprint(x)\r\n",
            "metadata": {},
            "outputs": [],
            "execution_count": 73
        },
        {
            "cell_type": "code",
            "source": "x = np.array([1, 2, 3, 4, 5])\r\ny = np.array([3, 5, 2, 6, 7])\r\n\r\nprint(np.intersect1d(x,y))\r\nprint(np.setdiff1d(x,y))\r\nprint(np.union1d(x,y))\r\n",
            "metadata": {},
            "outputs": [],
            "execution_count": 79
        },
        {
            "cell_type": "code",
            "source": "x = np.random.randint(1, 11, size=(10))\r\nprint(x)\r\nprint(np.sort(x))\r\nprint(np.sort(np.unique(x)))\r\nprint()\r\nx.sort()\r\nprint(x)\r\n",
            "metadata": {},
            "outputs": [],
            "execution_count": 83
        },
        {
            "cell_type": "code",
            "source": "x = np.random.randint(1, 11, size=(5, 5))\r\nprint(x)\r\nprint()\r\nprint(np.sort(x, axis = 0))\r\nprint()\r\nprint(np.sort(x, axis = 1))",
            "metadata": {},
            "outputs": [],
            "execution_count": 91
        },
        {
            "cell_type": "code",
            "source": "x = np.linspace(1, 25, endpoint = False).reshape(10, 5)\r\ny = np.arange(1, 26).reshape((5, 5))\r\nz = np.random.randint(1, 25, size = (5,5))\r\nprint(x)\r\nprint()\r\nprint(y)\r\nprint()\r\nprint(z)\r\na = y[(y % 2 != 0)]\r\nprint()\r\nprint(a)",
            "metadata": {},
            "outputs": [],
            "execution_count": 96
        },
        {
            "cell_type": "code",
            "source": "#Arithmetic operations and broadcasting\r\nx = np.array([1, 2, 3, 4, 5])\r\ny = np.array([6, 7, 8, 9, 10])\r\nprint(x + y)\r\nprint(np.add(x, y))\r\nprint(x - y)\r\nprint(np.subtract(x, y))\r\nprint(np.subtract(y, x))\r\nprint(x * y)\r\nprint(np.multiply(x, y))\r\nprint(x / y)\r\nprint(np.divide(x, y))",
            "metadata": {},
            "outputs": [],
            "execution_count": 101
        },
        {
            "cell_type": "code",
            "source": "x = np.array([1, 2, 3, 4]).reshape(2, 2)\r\ny = np.array([6, 7, 8, 10]).reshape(2, 2)\r\nprint(x)\r\nprint(y)\r\nprint(np.add(x, y))\r\nprint(x - y)\r\nprint(x * y)\r\nprint(np.divide(x, y))\r\nprint()\r\nprint(np.sqrt(x))\r\nprint(np.exp(y))\r\nprint(np.power(x, 2))\r\nprint(x.mean())\r\nprint(x.mean(axis = 0))\r\nprint(x.mean(axis = 1))\r\nprint(x.std())\r\nprint(x.max())\r\nprint(x.min())",
            "metadata": {},
            "outputs": [],
            "execution_count": 111
        },
        {
            "cell_type": "code",
            "source": "x = np.array([1, 2, 3, 4]).reshape(2, 2)\r\nprint(3 + x)\r\nprint(x - 3)\r\nprint(x * 4)\r\nprint(x / 4)\r\nprint(x // 4)\r\nprint(x % 4)",
            "metadata": {},
            "outputs": [],
            "execution_count": 113
        },
        {
            "cell_type": "code",
            "source": "x = np.arange(3)\r\nprint(x)\r\ny = np.arange(9).reshape(3, 3)\r\nprint(y)\r\nprint(np.multiply(x, y))\r\nz = x.reshape(3, 1)\r\nprint(z)\r\nprint(np.multiply(y, z))",
            "metadata": {},
            "outputs": [],
            "execution_count": 116
        },
        {
            "cell_type": "code",
            "source": "x = np.ones((4, 4))*[1, 2, 3, 4]\r\nprint(x)\r\ny = np.ones((4, 4))*[[1], [2], [3], [4]]\r\nprint(y)",
            "metadata": {},
            "outputs": [],
            "execution_count": 119
        }
    ]
}