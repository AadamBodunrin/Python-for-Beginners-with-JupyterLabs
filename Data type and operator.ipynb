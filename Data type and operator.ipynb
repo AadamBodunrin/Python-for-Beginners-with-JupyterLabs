{
 "cells": [
  {
   "cell_type": "markdown",
   "metadata": {},
   "source": [
    "This notebook contains **python codes** on Data Types and Operators\n",
    "\n",
    "- Data Types: Integers, Floats, Booleans, Strings\n",
    "- Operators: Arithmetic, Comparison, Logical\n",
    "- Built-In Functions, Type Conversion\n",
    "- Whitespace and Style Guidelines"
   ]
  },
  {
   "cell_type": "code",
   "execution_count": 27,
   "metadata": {},
   "outputs": [
    {
     "name": "stdout",
     "output_type": "stream",
     "text": [
      "8\n",
      "12\n",
      "16\n",
      "18\n",
      "\t\n",
      "16\n",
      "256\n",
      "3656158440062976\n",
      "64000000\n",
      "\t\n",
      "4.5\n",
      "9.0\n",
      "3.8461538461538463\n",
      "\t\n",
      "1\n",
      "0\n",
      "22\n",
      "\t\n"
     ]
    }
   ],
   "source": [
    "# Addition (+) \n",
    "print(3+5)\n",
    "print(1+2+3*3)\n",
    "print(1+(2+3)*3)\n",
    "print((1+2+3)*3)\n",
    "print('\\t')\n",
    "\n",
    "#Exponention (**)\n",
    "print(4**2)\n",
    "print(4**4)\n",
    "print(6**20)\n",
    "print(20**6)\n",
    "print('\\t')\n",
    "\n",
    "#Division (/)\n",
    "print(9/2)\n",
    "print(45/5)\n",
    "print(100/26)\n",
    "print('\\t')\n",
    "\n",
    "#Modulo(%)\n",
    "print(9%2)\n",
    "print(45%5)\n",
    "print(100%26)\n",
    "print('\\t')\n"
   ]
  }
 ],
 "metadata": {
  "kernelspec": {
   "display_name": "Python 3",
   "language": "python",
   "name": "python3"
  },
  "language_info": {
   "codemirror_mode": {
    "name": "ipython",
    "version": 3
   },
   "file_extension": ".py",
   "mimetype": "text/x-python",
   "name": "python",
   "nbconvert_exporter": "python",
   "pygments_lexer": "ipython3",
   "version": "3.7.3"
  }
 },
 "nbformat": 4,
 "nbformat_minor": 4
}
