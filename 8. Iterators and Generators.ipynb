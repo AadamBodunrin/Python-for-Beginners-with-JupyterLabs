{
    "metadata": {
        "kernelspec": {
            "name": "python3",
            "display_name": "Python 3"
        },
        "language_info": {
            "name": "python",
            "version": "3.6.6",
            "mimetype": "text/x-python",
            "codemirror_mode": {
                "name": "ipython",
                "version": 3
            },
            "pygments_lexer": "ipython3",
            "nbconvert_exporter": "python",
            "file_extension": ".py"
        }
    },
    "nbformat_minor": 2,
    "nbformat": 4,
    "cells": [
        {
            "cell_type": "code",
            "source": "def my_range(x):\r\n    i = 0\r\n    while i < x:\r\n        yield i\r\n        i += 1\r\n\r\nprint(my_range(x))\r\nfor x in my_range(5):\r\n    print(x)",
            "metadata": {},
            "outputs": [],
            "execution_count": 8
        },
        {
            "cell_type": "code",
            "source": "lessons = ['Why Python Programming', 'Data Types and Operators', 'Control Flow', 'Functions', 'Scripting', 'Numpy', 'Pandas', 'Iterators']\r\n\r\ndef my_enumerate(iterable, start=0):\r\n    count = start\r\n    for element in iterable:\r\n        yield count, element\r\n        count += 1\r\n\r\nfor i, lesson in my_enumerate(lessons, 1):\r\n    print('Lesson {}: {}'.format(i, lesson))",
            "metadata": {},
            "outputs": [],
            "execution_count": 16
        },
        {
            "cell_type": "code",
            "source": "sq_list = [x**2 for x in range(10)]  \r\nprint(sq_list)\r\n",
            "metadata": {},
            "outputs": [],
            "execution_count": 19
        }
    ]
}