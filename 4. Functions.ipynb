{
 "cells": [
  {
   "cell_type": "markdown",
   "metadata": {},
   "source": [
    "This notebook contains **python codes** on functions.\r\n",
    "\r\n",
    "- Defining Functions\r\n",
    "- Variable Scope\r\n",
    "- Documentation\r\n",
    "- Lambda Expressions\r\n",
    "- Iterators and Generators"
   ]
  },
  {
   "cell_type": "code",
   "execution_count": 27,
   "metadata": {},
   "outputs": [],
   "source": [
    "#Defining functions with argument\r\n",
    "def cylinder_volume(height, radius):\r\n",
    "    pi = 3.14159\r\n",
    "    volume = height * pi * radius ** 2\r\n",
    "    return volume\r\n",
    "cylinder_volume(10, 3)\r\n"
   ]
  },
  {
   "cell_type": "code",
   "execution_count": 28,
   "metadata": {},
   "outputs": [],
   "source": [
    "#Defining functions with argument\r\n",
    "def print_greeting():\r\n",
    "    print('Hello world!')\r\n",
    "print_greeting()\r\n"
   ]
  },
  {
   "cell_type": "code",
   "execution_count": 33,
   "metadata": {},
   "outputs": [],
   "source": [
    "def show_plus_ten(num):\r\n",
    "    print(num + 10)\r\n",
    "\r\n",
    "def add_ten(num):\r\n",
    "    return(num + 10)\r\n",
    "\r\n",
    "print('Calling show_plus_ten...')\r\n",
    "return_value_1 = show_plus_ten(5)\r\n",
    "print('Done calling')\r\n",
    "print('This function returned: {}'.format(return_value_1))\r\n",
    "print('\\nCalling add_ten...')\r\n",
    "return_value_2 = add_ten(5)\r\n",
    "print('Done calling')\r\n",
    "print('This function returned: {}'.format(return_value_2))"
   ]
  },
  {
   "cell_type": "code",
   "execution_count": 39,
   "metadata": {},
   "outputs": [],
   "source": [
    "#Default arguments\r\n",
    "def cylinder_volume(height, radius=5):\r\n",
    "    pi = 3.14159\r\n",
    "    volume = height * pi * radius ** 2\r\n",
    "    return volume\r\n",
    "print(cylinder_volume(10))\r\n",
    "print(cylinder_volume(10,5))\r\n",
    "print(cylinder_volume(10,7))\r\n",
    "print(cylinder_volume(radius= 7, height= 10))"
   ]
  },
  {
   "cell_type": "code",
   "execution_count": 43,
   "metadata": {},
   "outputs": [],
   "source": [
    "def population_density(population, land_area):\r\n",
    "    return population/land_area\r\n",
    "test1 = population_density(10, 1)\r\n",
    "expected_result1 = 10\r\n",
    "print(\"expected result: {}, actual result: {}\".format(expected_result1, test1))\r\n",
    "test2 = population_density(864816, 121.4)\r\n",
    "expected_result2 = 7123.6902801\r\n",
    "print(\"\\nexpected result: {}, actual result: {}\".format(expected_result2, test2))"
   ]
  },
  {
   "cell_type": "code",
   "execution_count": 47,
   "metadata": {},
   "outputs": [],
   "source": [
    "def readable_timedelta(days):\r\n",
    "    weeks = days//7\r\n",
    "    d = days%7\r\n",
    "    return \"{} week(s) and {} day(s)\".format(weeks, d)\r\n",
    "\r\n",
    "print(readable_timedelta(165))"
   ]
  },
  {
   "cell_type": "code",
   "execution_count": 53,
   "metadata": {},
   "outputs": [],
   "source": [
    "#Variable scope\r\n",
    "egg_count = 0\r\n",
    "\r\n",
    "def buy_eggs(count):\r\n",
    "    return count + 12  # purchase a dozen eggs\r\n",
    "\r\n",
    "egg_count = buy_eggs(egg_count)\r\n",
    "print(egg_count)"
   ]
  },
  {
   "cell_type": "code",
   "execution_count": 55,
   "metadata": {},
   "outputs": [],
   "source": [
    "#Documentation\r\n",
    "def population_density(population, land_area):\r\n",
    "    \"\"\"Calculate the population density of an area. \"\"\"\r\n",
    "    return population / land_area\r\n",
    "\r\n",
    "def population_density(population, land_area):\r\n",
    "    \"\"\"Calculate the population density of an area.\r\n",
    "\r\n",
    "    INPUT:\r\n",
    "    population: int. The population of that area\r\n",
    "    land_area: int or float. This function is unit-agnostic, if you pass in values in terms\r\n",
    "    of square km or square miles the function will return a density in those units.\r\n",
    "\r\n",
    "    OUTPUT: \r\n",
    "    population_density: population / land_area. The population density of a particular area.\r\n",
    "    \"\"\"\r\n",
    "    return population / land_area"
   ]
  },
  {
   "cell_type": "code",
   "execution_count": 58,
   "metadata": {},
   "outputs": [],
   "source": [
    "#Lambda\r\n",
    "double = lambda x:  x * 2\r\n",
    "print(double(8))\r\n",
    "multiply = lambda x,y : x *y\r\n",
    "print(multiply(y = 12, x = 14))"
   ]
  },
  {
   "cell_type": "code",
   "execution_count": 61,
   "metadata": {},
   "outputs": [],
   "source": [
    "numbers = [\r\n",
    "              [34, 63, 88, 71, 29],\r\n",
    "              [90, 78, 51, 27, 45],\r\n",
    "              [63, 37, 85, 46, 22],\r\n",
    "              [51, 22, 34, 11, 18]\r\n",
    "           ]\r\n",
    "\r\n",
    "averages = list(map(lambda x: sum(x) / len(x), numbers))\r\n",
    "print(averages)"
   ]
  },
  {
   "cell_type": "code",
   "execution_count": 60,
   "metadata": {},
   "outputs": [],
   "source": [
    "cities = [\"New York City\", \"Los Angeles\", \"Chicago\", \"Mountain View\", \"Denver\", \"Boston\"]\r\n",
    "\r\n",
    "short_cities = list(filter(lambda x: len(x) < 10, cities))\r\n",
    "print(short_cities)"
   ]
  }
 ],
 "metadata": {
  "kernelspec": {
   "display_name": "Python 3",
   "language": "python",
   "name": "python3"
  },
  "language_info": {
   "codemirror_mode": {
    "name": "ipython",
    "version": 3
   },
   "file_extension": ".py",
   "mimetype": "text/x-python",
   "name": "python",
   "nbconvert_exporter": "python",
   "pygments_lexer": "ipython3",
   "version": "3.7.3"
  }
 },
 "nbformat": 4,
 "nbformat_minor": 4
}
