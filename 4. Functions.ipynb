{
    "metadata": {
        "kernelspec": {
            "name": "python3",
            "display_name": "Python 3"
        },
        "language_info": {
            "name": "python",
            "version": "3.6.6",
            "mimetype": "text/x-python",
            "codemirror_mode": {
                "name": "ipython",
                "version": 3
            },
            "pygments_lexer": "ipython3",
            "nbconvert_exporter": "python",
            "file_extension": ".py"
        }
    },
    "nbformat_minor": 2,
    "nbformat": 4,
    "cells": [
        {
            "cell_type": "markdown",
            "source": "This notebook contains **python codes** on functions.\r\n\r\n- Defining Functions\r\n- Variable Scope\r\n- Documentation\r\n- Lambda Expressions\r\n- Iterators and Generators",
            "metadata": {}
        },
        {
            "cell_type": "code",
            "source": "#Defining functions with argument\r\ndef cylinder_volume(height, radius):\r\n    pi = 3.14159\r\n    volume = height * pi * radius ** 2\r\n    return volume\r\ncylinder_volume(10, 3)\r\n",
            "metadata": {},
            "outputs": [],
            "execution_count": 27
        },
        {
            "cell_type": "code",
            "source": "#Defining functions with argument\r\ndef print_greeting():\r\n    print('Hello world!')\r\nprint_greeting()\r\n",
            "metadata": {},
            "outputs": [],
            "execution_count": 28
        },
        {
            "cell_type": "code",
            "source": "def show_plus_ten(num):\r\n    print(num + 10)\r\n\r\ndef add_ten(num):\r\n    return(num + 10)\r\n\r\nprint('Calling show_plus_ten...')\r\nreturn_value_1 = show_plus_ten(5)\r\nprint('Done calling')\r\nprint('This function returned: {}'.format(return_value_1))\r\nprint('\\nCalling add_ten...')\r\nreturn_value_2 = add_ten(5)\r\nprint('Done calling')\r\nprint('This function returned: {}'.format(return_value_2))",
            "metadata": {},
            "outputs": [],
            "execution_count": 33
        },
        {
            "cell_type": "code",
            "source": "#Default arguments\r\ndef cylinder_volume(height, radius=5):\r\n    pi = 3.14159\r\n    volume = height * pi * radius ** 2\r\n    return volume\r\nprint(cylinder_volume(10))\r\nprint(cylinder_volume(10,5))\r\nprint(cylinder_volume(10,7))\r\nprint(cylinder_volume(radius= 7, height= 10))",
            "metadata": {},
            "outputs": [],
            "execution_count": 39
        },
        {
            "cell_type": "code",
            "source": "def population_density(population, land_area):\r\n    return population/land_area\r\ntest1 = population_density(10, 1)\r\nexpected_result1 = 10\r\nprint(\"expected result: {}, actual result: {}\".format(expected_result1, test1))\r\ntest2 = population_density(864816, 121.4)\r\nexpected_result2 = 7123.6902801\r\nprint(\"\\nexpected result: {}, actual result: {}\".format(expected_result2, test2))",
            "metadata": {},
            "outputs": [],
            "execution_count": 43
        },
        {
            "cell_type": "code",
            "source": "def readable_timedelta(days):\r\n    weeks = days//7\r\n    d = days%7\r\n    return \"{} week(s) and {} day(s)\".format(weeks, d)\r\n\r\nprint(readable_timedelta(165))",
            "metadata": {},
            "outputs": [],
            "execution_count": 47
        },
        {
            "cell_type": "code",
            "source": "#Variable scope\r\negg_count = 0\r\n\r\ndef buy_eggs(count):\r\n    return count + 12  # purchase a dozen eggs\r\n\r\negg_count = buy_eggs(egg_count)\r\nprint(egg_count)",
            "metadata": {},
            "outputs": [],
            "execution_count": 53
        },
        {
            "cell_type": "code",
            "source": "#Documentation\r\ndef population_density(population, land_area):\r\n    \"\"\"Calculate the population density of an area. \"\"\"\r\n    return population / land_area\r\n\r\ndef population_density(population, land_area):\r\n    \"\"\"Calculate the population density of an area.\r\n\r\n    INPUT:\r\n    population: int. The population of that area\r\n    land_area: int or float. This function is unit-agnostic, if you pass in values in terms\r\n    of square km or square miles the function will return a density in those units.\r\n\r\n    OUTPUT: \r\n    population_density: population / land_area. The population density of a particular area.\r\n    \"\"\"\r\n    return population / land_area",
            "metadata": {},
            "outputs": [],
            "execution_count": 55
        },
        {
            "cell_type": "code",
            "source": "#Lambda\r\ndouble = lambda x:  x * 2\r\nprint(double(8))\r\nmultiply = lambda x,y : x *y\r\nprint(multiply(y = 12, x = 14))",
            "metadata": {},
            "outputs": [],
            "execution_count": 58
        },
        {
            "cell_type": "code",
            "source": "numbers = [\r\n              [34, 63, 88, 71, 29],\r\n              [90, 78, 51, 27, 45],\r\n              [63, 37, 85, 46, 22],\r\n              [51, 22, 34, 11, 18]\r\n           ]\r\n\r\naverages = list(map(lambda x: sum(x) / len(x), numbers))\r\nprint(averages)",
            "metadata": {},
            "outputs": [],
            "execution_count": 61
        },
        {
            "cell_type": "code",
            "source": "cities = [\"New York City\", \"Los Angeles\", \"Chicago\", \"Mountain View\", \"Denver\", \"Boston\"]\r\n\r\nshort_cities = list(filter(lambda x: len(x) < 10, cities))\r\nprint(short_cities)",
            "metadata": {},
            "outputs": [],
            "execution_count": 60
        }
    ]
}