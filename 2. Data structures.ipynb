{
    "metadata": {
        "kernelspec": {
            "name": "python3",
            "display_name": "Python 3"
        },
        "language_info": {
            "name": "python",
            "version": "3.6.6",
            "mimetype": "text/x-python",
            "codemirror_mode": {
                "name": "ipython",
                "version": 3
            },
            "pygments_lexer": "ipython3",
            "nbconvert_exporter": "python",
            "file_extension": ".py"
        }
    },
    "nbformat_minor": 2,
    "nbformat": 4,
    "cells": [
        {
            "cell_type": "markdown",
            "source": "This notebook contains **python codes** on Data Structures.\r\n\r\n- Types of Data Structures: Lists, Tuples, Sets, Dictionaries, Compound Data Structures\r\n- Operators: Membership, Identity\r\n- Built-In Functions or Methods\r\n",
            "metadata": {}
        },
        {
            "cell_type": "code",
            "source": "#Lists and memberships\r\nmonths = ['January', 'February', 'March', 'April', 'May', 'June', 'July', 'August', 'September', 'October', 'November', 'December']\r\nprint(months)\r\nprint(months[:4])\r\nprint(months[0].find('J'))\r\nrandom_things = [1, 3.4, 'a string', True]\r\nprint(len(random_things) -1)\r\nprint(random_things[(len(random_things) - 2)])\r\nprint(random_things[-2])\r\nprint(months[:6])\r\nprint('The following months make up the third quarter of the year:', months[6:9])\r\nprint('a string' in random_things, 4.3 not in random_things)\r\nprint('\\t')\r\n\r\nprint(months[0])\r\n(months.append('Summer'))\r\nprint(months)",
            "metadata": {},
            "outputs": [],
            "execution_count": 58
        },
        {
            "cell_type": "code",
            "source": "#How many days are in a particular month based on the integer variable?\r\nmonth = 8\r\ndays_in_month = [31,28,31,30,31,30,31,31,30,31,30,31]\r\nprint(days_in_month[month - 1])\r\nprint('\\t')\r\n\r\n#Modify this line so it prints the last three elements of the list\r\neclipse_dates = ['June 21, 2001', 'December 4, 2002', 'November 23, 2003',\r\n                 'March 29, 2006', 'August 1, 2008', 'July 22, 2009',\r\n                 'July 11, 2010', 'November 13, 2012', 'March 20, 2015',\r\n                 'March 9, 2016']\r\nprint(eclipse_dates[-3:])\r\nprint(len(eclipse_dates))\r\nprint(sorted(eclipse_dates))\r\nprint('\\t')\r\nprint(sorted(eclipse_dates, reverse = True))\r\nprint(max(eclipse_dates))\r\nprint(min(eclipse_dates))\r\nprint('\\t')\r\nprint('\\n'. join(sorted(eclipse_dates)))\r\neclipse_dates.append('July 27, 2019')\r\nprint(eclipse_dates)",
            "metadata": {},
            "outputs": [],
            "execution_count": 59
        },
        {
            "cell_type": "code",
            "source": "a = [1, 5, 8]\r\nb = [2, 6, 9, 10]\r\nc = [100, 200]\r\n\r\nprint(max([len(a), len(b), len(c)]))\r\nprint(min([len(a), len(b), len(c)]))\r\nprint('\\t')\r\nnames = ['Carol', 'Albert', 'Ben', 'Donna']\r\nprint(' & '.join(sorted(names)))\r\nnames = ['Carol', 'Albert', 'Ben', 'Donna']\r\nnames.append('Eugenia')\r\nprint(sorted(names))",
            "metadata": {},
            "outputs": [],
            "execution_count": 60
        },
        {
            "cell_type": "code",
            "source": "#Tuples. Parenthesis are optional when naming tuples\r\nLength, breadth, width = 10, 25, 50\r\nprint('The volume of that container can be calculated using {}*{}*{} which equals: '.format(Length, breadth, width) + '{}cm^3'.format(Length*breadth*width))\r\nprint('\\t')\r\nlocation = (13.4125, 103.866667)\r\nprint('Latitude:', location[0])\r\nprint('Longitude:', location[1])\r\nprint('\\t')\r\ntuple_a = 1, 2\r\ntuple_b = (1, 2)\r\nprint(tuple_a == tuple_b)\r\nprint(tuple_a[1])\r\n",
            "metadata": {},
            "outputs": [],
            "execution_count": 61
        },
        {
            "cell_type": "code",
            "source": "#Sets\r\nnumbers = [1, 2, 6, 3, 1, 1, 6] \r\nprint(set(numbers))\r\nprint(numbers.pop(4))\r\nprint(numbers)\r\n\r\nfruit = {'apple', 'banana', 'orange', 'grapefruit'} \r\nprint('watermelon' in fruit)  \r\n\r\nfruit.add('watermelon')  \r\nprint(fruit)\r\n\r\nprint(fruit.pop())  \r\nprint(fruit)",
            "metadata": {},
            "outputs": [],
            "execution_count": 62
        },
        {
            "cell_type": "code",
            "source": "#Dictionary\r\nelements = {'hydrogen': 1, 'helium': 2, 'carbon': 6}\r\nprint(elements['hydrogen'])\r\nprint('carbon' in elements)\r\nprint('berrylium' not in elements)\r\nprint('carbon' is elements)\r\nprint('berrylium' is not elements)\r\nprint(elements.get('helium'))\r\nprint(elements.get('boron'))\r\nprint('\\t')\r\n\r\npopulation = {'Shangai': 17.8, \r\n              'Istanbul': 13.3, \r\n              'Karachi': 13.0, \r\n              'Mumbai': 12.5}\r\nprint(population.get('Lagos', '\\t\\nSorry, but Lagos is not in this dictionary.'))\r\npopulation.update(Lagos = ' 15.9')\r\nprint(population)\r\n\r\na = [1, 2, 3]\r\nb = a\r\nc = [1, 2, 3]\r\n\r\nprint(a == b)\r\nprint(a is b)\r\nprint(a == c)\r\nprint(a is c)\r\n\r\nanimals = {'dogs': [20, 10, 15, 8, 32, 15], \r\n           'cats': [3,4,2,8,2,4], \r\n           'rabbits': [2, 3, 3], \r\n           'fish': [0.3, 0.5, 0.8, 0.3, 1]}\r\nprint(animals['dogs'])\r\nprint(animals['dogs'][3])\r\nprint(animals['fish'])\r\n",
            "metadata": {},
            "outputs": [],
            "execution_count": 98
        },
        {
            "cell_type": "code",
            "source": "#Compound data structure\r\nelements = {'hydrogen': {'number': 1,\r\n                         'weight': 1.00794,\r\n                         'symbol': 'H'},\r\n              'helium': {'number': 2,\r\n                         'weight': 4.002602,\r\n                         'symbol': 'He'},\r\n              'carbon': {'number': 6,\r\n                         'weight': 12.0107,\r\n                         'symbol': 'C'}}\r\nprint(elements['carbon']['weight'])\r\nprint(elements['carbon'])\r\nprint('\\t')\r\nelements.update(oxygen = {\"number\":8,\"weight\":15.999,'symbol':'O'})\r\nprint('elements = ', elements)\r\nprint('\\t')\r\nelements['hydrogen'].update(is_noble_gas = False)\r\nelements['helium'].update(is_noble_gas = True)\r\nprint(elements['hydrogen']['is_noble_gas'])\r\n\r\n#Alternative method to add to a dictionary\r\nelements['carbon']['is_noble_gas'] = False\r\n",
            "metadata": {},
            "outputs": [],
            "execution_count": 100
        },
        {
            "cell_type": "code",
            "source": "verse = \"if you can keep your head when all about you are losing theirs and blaming it on you   if you can trust yourself when all men doubt you     but make allowance for their doubting too   if you can wait and not be tired by waiting      or being lied about  don’t deal in lies   or being hated  don’t give way to hating      and yet don’t look too good  nor talk too wise\"\r\nprint(verse, '\\n')\r\n\r\n# split verse into list of words\r\nverse_list = verse.split()\r\nprint(verse_list, '\\n')\r\n\r\n# convert list to a data structure that stores unique elements\r\nverse_set = set(verse_list)\r\nprint(verse_set, '\\n')\r\n\r\n# print the number of unique words\r\nnum_unique = len(verse_set) \r\nprint(num_unique, '\\n')\r\n",
            "metadata": {},
            "outputs": [],
            "execution_count": 114
        },
        {
            "cell_type": "code",
            "source": "verse_dict =  {'if': 3, 'you': 6, 'can': 3, 'keep': 1, 'your': 1, 'head': 1, 'when': 2, 'all': 2, 'about': 2, 'are': 1, 'losing': 1, 'theirs': 1, 'and': 3, 'blaming': 1, 'it': 1, 'on': 1, 'trust': 1, 'yourself': 1, 'men': 1, 'doubt': 1, 'but': 1, 'make': 1, 'allowance': 1, 'for': 1, 'their': 1, 'doubting': 1, 'too': 3, 'wait': 1, 'not': 1, 'be': 1, 'tired': 1, 'by': 1, 'waiting': 1, 'or': 2, 'being': 2, 'lied': 1, 'don\\'t': 3, 'deal': 1, 'in': 1, 'lies': 1, 'hated': 1, 'give': 1, 'way': 1, 'to': 1, 'hating': 1, 'yet': 1, 'look': 1, 'good': 1, 'nor': 1, 'talk': 1, 'wise': 1}\r\nprint(verse_dict, '\\n')\r\n\r\n# find number of unique keys in the dictionary\r\nnum_keys = len(verse_dict)\r\nprint(num_keys)\r\n\r\n# find whether 'breathe' is a key in the dictionary\r\ncontains_breathe = \"breathe\" in verse_dict\r\nprint(contains_breathe)\r\n\r\n# create and sort a list of the dictionary's keys\r\nsorted_keys = sorted(verse_dict.keys())\r\n\r\n# get the first element in the sorted list of keys\r\nprint(sorted_keys[0])\r\n\r\n# find the element with the highest value in the list of keys\r\nprint(sorted_keys[-1]) ",
            "metadata": {},
            "outputs": [],
            "execution_count": 115
        }
    ]
}