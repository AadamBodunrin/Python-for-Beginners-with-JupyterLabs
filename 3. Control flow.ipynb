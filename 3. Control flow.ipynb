{
    "metadata": {
        "kernelspec": {
            "name": "python3",
            "display_name": "Python 3"
        },
        "language_info": {
            "name": "python",
            "version": "3.6.6",
            "mimetype": "text/x-python",
            "codemirror_mode": {
                "name": "ipython",
                "version": 3
            },
            "pygments_lexer": "ipython3",
            "nbconvert_exporter": "python",
            "file_extension": ".py"
        }
    },
    "nbformat_minor": 2,
    "nbformat": 4,
    "cells": [
        {
            "cell_type": "markdown",
            "source": "This notebook contains python codes on Data Structures.\r\n\r\n- Conditional Statements\r\n- Boolean Expressions\r\n- For and While Loops\r\n- Break and Continue\r\n- Zip and Enumerate\r\n- List Comprehensions",
            "metadata": {}
        },
        {
            "cell_type": "code",
            "source": "# Conditional Statements (if)",
            "metadata": {},
            "outputs": [],
            "execution_count": 0
        }
    ]
}