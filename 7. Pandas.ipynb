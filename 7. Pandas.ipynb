{
    "metadata": {
        "kernelspec": {
            "name": "python3",
            "display_name": "Python 3"
        },
        "language_info": {
            "name": "python",
            "version": "3.6.6",
            "mimetype": "text/x-python",
            "codemirror_mode": {
                "name": "ipython",
                "version": 3
            },
            "pygments_lexer": "ipython3",
            "nbconvert_exporter": "python",
            "file_extension": ".py"
        }
    },
    "nbformat_minor": 2,
    "nbformat": 4,
    "cells": [
        {
            "cell_type": "markdown",
            "source": "This notebook contains **python codes** on pandas.\n\n- How to import Pandas\n- How to create Pandas Series and DataFrames using various methods\n- How to access and change elements in Series and DataFrames\n- How to perform arithmetic operations on Series\n- How to load data into a DataFrame\n- How to deal with Not a Number (NaN) values",
            "metadata": {}
        },
        {
            "cell_type": "code",
            "source": "#Import pandas and create Pandas series\nimport pandas as pd\ngroceries = pd.Series(data = [30, 6, 'Yes', 'No'], index = ['eggs', 'apples', 'milk', 'bread'])\nprint(groceries)\nprint(groceries.shape)\nprint(groceries.ndim)\nprint(groceries.size)\nprint(groceries.index)\nprint(groceries.values)\nprint('banana' in groceries)\nprint('eggs' in groceries)",
            "metadata": {},
            "outputs": [],
            "execution_count": 1
        },
        {
            "cell_type": "code",
            "source": "#Acess/Modify elements \nprint(groceries['eggs'])\nprint(groceries[['eggs', 'milk']])\nprint(groceries[0])\nprint(groceries[-1])\nprint(groceries[[0, 2]])\nprint()\nprint(groceries.loc[['apples', 'bread']])\nprint(groceries.iloc[[2, 3]])\nprint()\ngroceries['eggs'] = 4\nprint(groceries)\nprint()\nprint(groceries.drop('eggs'))\nprint(groceries.drop('eggs', inplace = True)) ",
            "metadata": {},
            "outputs": [],
            "execution_count": 2
        },
        {
            "cell_type": "code",
            "source": "#Arithmetic operations\nfruits= pd.Series(data = [10, 6, 3,], index = ['apples', 'oranges', 'bananas'])\nprint(fruits)\nprint(fruits - 2)\nprint(fruits + 2)\nprint(fruits * 2)\nprint(fruits / 2)\nprint(fruits.dtype)",
            "metadata": {},
            "outputs": [],
            "execution_count": 3
        },
        {
            "cell_type": "code",
            "source": "import numpy as np\nprint(np.sqrt(fruits))\nprint(np.exp(fruits))\nprint(np.power(fruits, 2))",
            "metadata": {},
            "outputs": [],
            "execution_count": 4
        },
        {
            "cell_type": "code",
            "source": "print(fruits['bananas'] + 2)\nprint(fruits[['apples', 'bananas']] * 2)\nprint(fruits.loc[['apples', 'bananas']] / 2)\n",
            "metadata": {},
            "outputs": [],
            "execution_count": 5
        },
        {
            "cell_type": "code",
            "source": "distance_from_sun = [149.6, 1433.5, 227.9, 108.2, 778.6]\nplanets = ['Earth','Saturn', 'Mars','Venus', 'Jupiter']\n\nDistance = pd.Series(data = distance_from_sun, index = planets)\nprint(Distance)\ntime_taken = Distance / 18\nprint(time_taken)\nclose_planets = time_taken[time_taken < 40]\nprint(close_planets)",
            "metadata": {},
            "outputs": [],
            "execution_count": 6
        },
        {
            "cell_type": "code",
            "source": "#Creating Pandas Dataframe\nimport pandas as pd\nitems = {'Bob' : pd.Series(data = [245, 25, 55], index = ['bike', 'pants', 'watch']),\n         'Alice' : pd.Series(data = [40, 110, 500, 45], index = ['book', 'glasses', 'bike', 'pants'])}\nshopping_carts = pd.DataFrame(items)\nprint(shopping_carts)\nprint(shopping_carts.columns)\nprint(shopping_carts.values)\nprint(shopping_carts.shape)\nprint(shopping_carts.ndim)\nprint(shopping_carts.size)",
            "metadata": {},
            "outputs": [],
            "execution_count": 7
        },
        {
            "cell_type": "code",
            "source": "bob = pd.DataFrame(items, columns = ['Bob'])\nprint(bob)\nsell = pd.DataFrame(items, index = ['pants', 'watch'])\nprint(sell)\nalice = pd.DataFrame(items, index = ['pants', 'watch'], columns = ['Alice'])\nprint(alice)",
            "metadata": {},
            "outputs": [],
            "execution_count": 8
        },
        {
            "cell_type": "code",
            "source": "#Accessing Elements in Pandas DataFrames\ndata = {'Integers': [1, 2, 3], 'Float': [4.5, 8.2, 9.6]}\ndata2 = pd.DataFrame(data, index = ['Label 1', 'Label 2', 'Label 3'])\nprint(data2)\nitems = ({'Bikes': 20, 'Pants': 10, 'Watches': 38}, {'Watches': 48, 'Bikes': 15, 'Pants': 5, 'Book': 45})\nstores = pd.DataFrame(items, index=['Store 1', 'Store 2'])\nprint(stores)\nprint(stores[['Bikes']])\nprint(stores[['Bikes', 'Watches']])\nprint(stores.loc[['Store 1']])\nprint(stores['Bikes']['Store 1'])\nstores ['Shirts']= [20, 5]\nprint(stores)\nstores['Suits'] = stores['Pants'] + stores['Shirts']\nprint(stores)\nnew_items = ({'Watches': 48, 'Pants': 15, 'Shirts': 5, 'Book': 45})\nnew_store = pd.DataFrame(new_items, index = ['Store 3'])\nstores = stores.append(new_store)\nprint(stores)\nstores['New_Watches'] = stores['Watches'] [1:]\nprint(stores)\nstores.insert(5, 'Shoes', [8, 7, 9])\nprint(stores)\nstores.pop('New_Watches')\nprint(stores)\nstores = stores.drop(['Watches', 'Shoes'], axis = 1)\nprint()\nprint(stores)\nstores = stores.drop(['Store 1', 'Store 2'], axis = 0)\nprint(stores)\nstores = stores.rename(columns = {'Bikes' : 'Hats'})\nprint(stores)\nstores = stores.rename(index = {'Store 3' : 'Last Store'})\nprint(stores)",
            "metadata": {},
            "outputs": [],
            "execution_count": 9
        },
        {
            "cell_type": "code",
            "source": "#Dealing with NaN\nitems = [{'bikes': 20, 'pants': 30, 'watches': 35, 'shirts': 15, 'shoes':8, 'suits':45},\n{'watches': 10, 'glasses': 50, 'bikes': 15, 'pants':5, 'shirts': 2, 'shoes':5, 'suits':7},\n{'bikes': 20, 'pants': 30, 'watches': 35, 'glasses': 4, 'shoes':10}]\n\nstore_items = pd.DataFrame(items, index = ['store 1', 'store 2', 'store 3'])\nx = store_items.isnull()\ny = store_items.isnull().sum()\nz = store_items.isnull().sum().sum()\na = store_items.count()\nprint(x,  y, z, a)\nprint()\nprint(store_items)\nb = store_items.dropna(axis = 0)\nprint()\nprint(b)\nc = store_items.dropna(axis = 1)\nprint(c)\nd = store_items.fillna(0)\nprint(d)\ne = store_items.fillna(method = 'ffill', axis = 0)\nprint(e)\nf = store_items.fillna(method = 'ffill', axis = 1)\nprint(f)\ng = store_items.fillna(method = 'backfill', axis = 0)\nprint(g)\nh = store_items.fillna(method = 'backfill', axis = 1)\nprint(h)\ni = store_items.interpolate(method = 'linear', axis = 0)\nprint('i = ', i)\nj = store_items.interpolate(method = 'linear', axis = 1)\nprint(j)",
            "metadata": {},
            "outputs": [],
            "execution_count": 10
        },
        {
            "cell_type": "code",
            "source": "import pandas as pd\nimport numpy as np\npd.set_option('precision', 1)\nbooks = pd.Series(data = ['Great Expectations', 'Of Mice and Men', 'Romeo and Juliet', 'The Time Machine', 'Alice in Wonderland' ])\nauthors = pd.Series(data = ['Charles Dickens', 'John Steinbeck', 'William Shakespeare', ' H. G. Wells', 'Lewis Carroll' ])\nuser_1 = pd.Series(data = [3.2, np.nan ,2.5])\nuser_2 = pd.Series(data = [5., 1.3, 4.0, 3.8])\nuser_3 = pd.Series(data = [2.0, 2.3, np.nan, 4])\nuser_4 = pd.Series(data = [4, 3.5, 4, 5, 4.2])\ndat = { 'Book Title': books, \n        'Author': authors,\n        'User 1': user_1, \n        'User 2': user_2,\n        'User 3': user_3, \n        'User 4': user_4}\nbook_ratings = pd.DataFrame(dat)\nprint(book_ratings)\nprint()\nprint(book_ratings.fillna(book_ratings.mean(), inplace = False))\nbest_rated = book_ratings[(book_ratings == 5).any(axis = 1)]['Book Title'].values\nprint(best_rated)",
            "metadata": {},
            "outputs": [],
            "execution_count": 11
        },
        {
            "cell_type": "code",
            "source": "#Loading Data into a pandas DataFrame\nimport pandas as pd\n# -- To read a CSV file      data = pd.read_excel('data.xlsx') \ndata = pd.read_csv('data.csv') \nprint(type(data))\nprint(data)",
            "metadata": {},
            "outputs": [],
            "execution_count": 12
        },
        {
            "cell_type": "code",
            "source": "#viewing the dataframe\nprint(data.shape)\nprint(data.size)\nprint(data.head(10))\nprint()\nprint(data.tail(10))",
            "metadata": {},
            "outputs": [],
            "execution_count": 13
        },
        {
            "cell_type": "code",
            "source": "#checking for null values\nprint(data.isnull().any())\nprint(data.isnull().sum())\nprint(data.isnull().sum().sum())\nprint(data.count())",
            "metadata": {},
            "outputs": [],
            "execution_count": 149
        },
        {
            "cell_type": "code",
            "source": "#Basic Statistics\nprint(data.describe())\nprint(data['Age'].describe())\nprint(data.min())\nprint(data.max())\nprint(data.mean())\nprint(data.corr())\n",
            "metadata": {},
            "outputs": [],
            "execution_count": 155
        },
        {
            "cell_type": "code",
            "source": "print(data.groupby(['Pclass'])['Survived'].sum())\nprint(data.groupby(['Age'])['Survived'].sum())\nprint()\nprint(data.groupby(['Sex'])['Survived'].sum())\nprint(data.groupby(['Sex', 'Age'])['Survived'].sum())\n",
            "metadata": {},
            "outputs": [],
            "execution_count": 169
        }
    ]
}