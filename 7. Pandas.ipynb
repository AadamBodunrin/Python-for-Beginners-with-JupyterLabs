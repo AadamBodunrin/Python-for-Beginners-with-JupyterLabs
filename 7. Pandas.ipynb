{
    "metadata": {
        "kernelspec": {
            "name": "python3",
            "display_name": "Python 3"
        },
        "language_info": {
            "name": "python",
            "version": "3.6.6",
            "mimetype": "text/x-python",
            "codemirror_mode": {
                "name": "ipython",
                "version": 3
            },
            "pygments_lexer": "ipython3",
            "nbconvert_exporter": "python",
            "file_extension": ".py"
        }
    },
    "nbformat_minor": 2,
    "nbformat": 4,
    "cells": [
        {
            "cell_type": "markdown",
            "source": "This notebook contains **python codes** on pandas.\r\n\r\n- How to import Pandas\r\n- How to create Pandas Series and DataFrames using various methods\r\n- How to access and change elements in Series and DataFrames\r\n- How to perform arithmetic operations on Series\r\n- How to load data into a DataFrame\r\n- How to deal with Not a Number (NaN) values",
            "metadata": {}
        }
    ]
}