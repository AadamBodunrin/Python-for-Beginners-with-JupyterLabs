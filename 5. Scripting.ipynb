{
 "cells": [
  {
   "cell_type": "markdown",
   "metadata": {},
   "source": [
    "This notebook contains **python codes and information** on scripting.\r\n",
    "\r\n",
    "- Python Installation and Environment Setup\r\n",
    "- Running and Editing Python Scripts\r\n",
    "- Interacting with User Input\r\n",
    "- Handling Exceptions\r\n",
    "- Reading and Writing Files\r\n",
    "- Importing Local, Standard, and Third-Party Modules\r\n",
    "- Experimenting with an Interpreter"
   ]
  },
  {
   "cell_type": "code",
   "execution_count": 4,
   "metadata": {},
   "outputs": [],
   "source": [
    "#Scripting with raw input\r\n",
    "name = input(\"Enter your name: \")\r\n",
    "print(\"Hello there, {}!\".format(name.title()))\r\n",
    "\r\n",
    "num = int(input(\"Enter an integer\"))\r\n",
    "print(\"hello \" * num)\r\n"
   ]
  },
  {
   "cell_type": "code",
   "execution_count": 5,
   "metadata": {},
   "outputs": [],
   "source": [
    "names = input(\"Enter names separated by commas: \").title().split(\",\")\r\n",
    "assignments = input(\"Enter assignment counts separated by commas: \").split(\",\")\r\n",
    "grades = input(\"Enter grades separated by commas: \").split(\",\")\r\n",
    "\r\n",
    "message = \"Hi {},\\n\\nThis is a reminder that you have {} assignments left to \\\r\n",
    "submit before you can graduate. You're current grade is {} and can increase \\\r\n",
    "to {} if you submit all assignments before the due date.\\n\\n\"\r\n",
    "\r\n",
    "for name, assignment, grade in zip(names, assignments, grades):\r\n",
    "    print(message.format(name, assignment, grade, int(grade) + int(assignment)*2))"
   ]
  },
  {
   "cell_type": "code",
   "execution_count": 17,
   "metadata": {},
   "outputs": [],
   "source": [
    "import math as mt\r\n",
    "print(mt.factorial(4))\r\n",
    "print(mt.exp(3))"
   ]
  }
 ],
 "metadata": {
  "kernelspec": {
   "display_name": "Python 3",
   "language": "python",
   "name": "python3"
  },
  "language_info": {
   "codemirror_mode": {
    "name": "ipython",
    "version": 3
   },
   "file_extension": ".py",
   "mimetype": "text/x-python",
   "name": "python",
   "nbconvert_exporter": "python",
   "pygments_lexer": "ipython3",
   "version": "3.7.3"
  }
 },
 "nbformat": 4,
 "nbformat_minor": 4
}
