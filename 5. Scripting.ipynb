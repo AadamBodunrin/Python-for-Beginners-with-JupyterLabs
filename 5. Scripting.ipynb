{
    "metadata": {
        "kernelspec": {
            "name": "python3",
            "display_name": "Python 3"
        },
        "language_info": {
            "name": "python",
            "version": "3.6.6",
            "mimetype": "text/x-python",
            "codemirror_mode": {
                "name": "ipython",
                "version": 3
            },
            "pygments_lexer": "ipython3",
            "nbconvert_exporter": "python",
            "file_extension": ".py"
        }
    },
    "nbformat_minor": 2,
    "nbformat": 4,
    "cells": [
        {
            "cell_type": "markdown",
            "source": "This notebook contains **python codes and information** on scripting.\r\n\r\n- Python Installation and Environment Setup\r\n- Running and Editing Python Scripts\r\n- Interacting with User Input\r\n- Handling Exceptions\r\n- Reading and Writing Files\r\n- Importing Local, Standard, and Third-Party Modules\r\n- Experimenting with an Interpreter",
            "metadata": {}
        },
        {
            "cell_type": "code",
            "source": "#Scripting with raw input\r\nname = input(\"Enter your name: \")\r\nprint(\"Hello there, {}!\".format(name.title()))\r\n\r\nnum = int(input(\"Enter an integer\"))\r\nprint(\"hello \" * num)\r\n",
            "metadata": {},
            "outputs": [],
            "execution_count": 4
        },
        {
            "cell_type": "code",
            "source": "names = input(\"Enter names separated by commas: \").title().split(\",\")\r\nassignments = input(\"Enter assignment counts separated by commas: \").split(\",\")\r\ngrades = input(\"Enter grades separated by commas: \").split(\",\")\r\n\r\nmessage = \"Hi {},\\n\\nThis is a reminder that you have {} assignments left to \\\r\nsubmit before you can graduate. You're current grade is {} and can increase \\\r\nto {} if you submit all assignments before the due date.\\n\\n\"\r\n\r\nfor name, assignment, grade in zip(names, assignments, grades):\r\n    print(message.format(name, assignment, grade, int(grade) + int(assignment)*2))",
            "metadata": {},
            "outputs": [],
            "execution_count": 5
        },
        {
            "cell_type": "code",
            "source": "import math as mt\r\nprint(mt.factorial(4))\r\nprint(mt.exp(3))",
            "metadata": {},
            "outputs": [],
            "execution_count": 17
        }
    ]
}